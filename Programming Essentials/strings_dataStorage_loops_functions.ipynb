{
 "cells": [
  {
   "cell_type": "markdown",
   "metadata": {},
   "source": [
    "# Week 11\n",
    "Topic: Strings"
   ]
  },
  {
   "cell_type": "code",
   "execution_count": 1,
   "metadata": {},
   "outputs": [
    {
     "name": "stdout",
     "output_type": "stream",
     "text": [
      "True\n"
     ]
    }
   ],
   "source": [
    "string = \"HelloWorld2\"\n",
    "print(string.isalnum())"
   ]
  },
  {
   "cell_type": "code",
   "execution_count": 44,
   "metadata": {},
   "outputs": [
    {
     "name": "stdout",
     "output_type": "stream",
     "text": [
      "True\n"
     ]
    }
   ],
   "source": [
    "string = \"HelloWorld\"\n",
    "print(string.isalpha()) # isalpha() method returns True if all the characters are alphabet letters (a-z). space and special characters are not alphabet letters."
   ]
  },
  {
   "cell_type": "code",
   "execution_count": 2,
   "metadata": {},
   "outputs": [
    {
     "name": "stdout",
     "output_type": "stream",
     "text": [
      "False\n"
     ]
    }
   ],
   "source": [
    "string = \"Hello World\"\n",
    "print(string.isidentifier())"
   ]
  },
  {
   "cell_type": "code",
   "execution_count": 46,
   "metadata": {},
   "outputs": [
    {
     "data": {
      "text/plain": [
       "97"
      ]
     },
     "execution_count": 46,
     "metadata": {},
     "output_type": "execute_result"
    }
   ],
   "source": [
    "# to get ascii value of a character\n",
    "ord('a')"
   ]
  },
  {
   "cell_type": "code",
   "execution_count": 47,
   "metadata": {},
   "outputs": [
    {
     "name": "stdout",
     "output_type": "stream",
     "text": [
      "None\n"
     ]
    }
   ],
   "source": [
    "list = [5, 6, 8, 3, 1, 2]\n",
    "list1 = list.sort()\n",
    "print(list1)"
   ]
  },
  {
   "cell_type": "code",
   "execution_count": 48,
   "metadata": {},
   "outputs": [
    {
     "ename": "TypeError",
     "evalue": "'int' object is not callable",
     "output_type": "error",
     "traceback": [
      "\u001b[1;31m---------------------------------------------------------------------------\u001b[0m",
      "\u001b[1;31mTypeError\u001b[0m                                 Traceback (most recent call last)",
      "Cell \u001b[1;32mIn[48], line 1\u001b[0m\n\u001b[1;32m----> 1\u001b[0m string_one \u001b[38;5;241m=\u001b[39m \u001b[38;5;28;43minput\u001b[39;49m\u001b[43m(\u001b[49m\u001b[38;5;124;43m\"\u001b[39;49m\u001b[38;5;124;43mEnter a word: \u001b[39;49m\u001b[38;5;124;43m\"\u001b[39;49m\u001b[43m)\u001b[49m\u001b[38;5;241m.\u001b[39mlower()\n\u001b[0;32m      2\u001b[0m count \u001b[38;5;241m=\u001b[39m \u001b[38;5;241m0\u001b[39m\n\u001b[0;32m      3\u001b[0m \u001b[38;5;28;01mif\u001b[39;00m \u001b[38;5;124m\"\u001b[39m\u001b[38;5;124ma\u001b[39m\u001b[38;5;124m\"\u001b[39m \u001b[38;5;129;01min\u001b[39;00m string_one:\n",
      "\u001b[1;31mTypeError\u001b[0m: 'int' object is not callable"
     ]
    }
   ],
   "source": [
    "string_one = input(\"Enter a word: \").lower()\n",
    "count = 0\n",
    "if \"a\" in string_one:\n",
    "    print(\"Found\")\n",
    "    for letter in string_one:\n",
    "        if letter == \"a\":\n",
    "            count += 1\n",
    "    print(f\"{count} 'a'\")\n",
    "else:\n",
    "    print(\"Not found\")"
   ]
  },
  {
   "cell_type": "markdown",
   "metadata": {},
   "source": [
    "Question 1"
   ]
  },
  {
   "cell_type": "code",
   "execution_count": null,
   "metadata": {},
   "outputs": [
    {
     "name": "stdout",
     "output_type": "stream",
     "text": [
      "Character w at position 0\n",
      "Character 3 at position 1\n",
      "Character   at position 2\n",
      "Character S at position 3\n",
      "Character c at position 4\n",
      "Character h at position 5\n",
      "Character o at position 6\n",
      "Character o at position 7\n",
      "Character l at position 8\n"
     ]
    }
   ],
   "source": [
    "# Write a Python program to print the index of the character in a string. \n",
    "# For example, if user keys ‘w3 school’, the output as shown below:\n",
    "\n",
    "# Enter a string: w3 school\n",
    "# Character w at position 0\n",
    "# Character 3 at position 1\n",
    "# Character   at position 2\n",
    "# Character s at position 3\n",
    "\n",
    "value = input(\"Enter a string: \")\n",
    "\n",
    "for i in range(len(value)):\n",
    "    print(f\"Character {value[i]} at position {i}\")"
   ]
  },
  {
   "cell_type": "markdown",
   "metadata": {},
   "source": [
    "Question 2"
   ]
  },
  {
   "cell_type": "code",
   "execution_count": null,
   "metadata": {},
   "outputs": [
    {
     "name": "stdout",
     "output_type": "stream",
     "text": [
      "hiiam\n"
     ]
    }
   ],
   "source": [
    "# Write a program that will remove all the spaces in a given string\n",
    "# Sample Output:\n",
    "# Enter a string: The Lazy Dog\n",
    "# TheLazyDog\n",
    "\n",
    "value = input(\"Enter a string: \")\n",
    "\n",
    "# if \" \" in value:\n",
    "#     value = value.replace(\" \", \"\")\n",
    "#     print(value)\n",
    "\n",
    "# or\n",
    "\n",
    "value = value.replace(\" \", \"\")\n",
    "print(value)"
   ]
  },
  {
   "cell_type": "markdown",
   "metadata": {},
   "source": [
    "Question 3"
   ]
  },
  {
   "cell_type": "code",
   "execution_count": null,
   "metadata": {},
   "outputs": [],
   "source": [
    "# Convert a given string to all uppercase if it contains at least 2 uppercase characters.\n",
    "\n",
    "value = input(\"Enter a string: \")\n",
    "count = 0\n",
    "\n",
    "for char in value: \n",
    "    if char.isupper(): # check if the character is uppercase\n",
    "        count += 1\n",
    "\n",
    "if count >= 2:\n",
    "    print(value.upper())\n",
    "else:\n",
    "    print(value.lower())"
   ]
  },
  {
   "cell_type": "markdown",
   "metadata": {},
   "source": [
    "Question 4"
   ]
  },
  {
   "cell_type": "code",
   "execution_count": null,
   "metadata": {},
   "outputs": [
    {
     "name": "stdout",
     "output_type": "stream",
     "text": [
      "amazingly\n"
     ]
    }
   ],
   "source": [
    "# For strings that contains at least 5 characters, add ‘ly’ if the string ends with ‘ing’. Otherwise add ‘ing’.\n",
    "\n",
    "\n",
    "value = input(\"Enter a string: \")\n",
    "\n",
    "if len(value) >= 5: # check whether length is > 5\n",
    "    if value.endswith(\"ing\"): # check whether string ends with \"ing\"\n",
    "        value += \"ly\"  # add \"ly\" to the end of the string\n",
    "    else:\n",
    "        value += \"ing\" # add \"ing\" to the end of the string\n",
    "\n",
    "print(value)"
   ]
  },
  {
   "cell_type": "markdown",
   "metadata": {},
   "source": [
    "Question 5"
   ]
  },
  {
   "cell_type": "code",
   "execution_count": null,
   "metadata": {},
   "outputs": [],
   "source": [
    "# Write a game that simulates the ‘wheel of fortune’ word game. \n",
    "# To help you to create this program, you may use the following code snippets to start off with.\n",
    "\n",
    "import re\n",
    "sentence = \"wheel of fortune\"\n",
    "p = re.compile('\\w')\n",
    "hidden_sentence = p.sub('-', sentence)\n",
    "print('Guess the phrase :', hidden_sentence)\n",
    "# while loop to keep asking for the letter and print out the phrase\n",
    "guessed_letters = \"\"\n",
    "\n",
    "print"
   ]
  },
  {
   "cell_type": "markdown",
   "metadata": {},
   "source": [
    "# Week 12\n",
    "List, Tuples and Dictionaries"
   ]
  },
  {
   "cell_type": "code",
   "execution_count": null,
   "metadata": {},
   "outputs": [
    {
     "name": "stdout",
     "output_type": "stream",
     "text": [
      "1\n",
      "3\n",
      "5\n",
      "7\n",
      "9\n"
     ]
    }
   ],
   "source": [
    "odd_list = [1, 3, 5, 7, 9]\n",
    "even_list = [2, 4, 6, 8]\n",
    "for i in odd_list:\n",
    "    print(i)"
   ]
  },
  {
   "cell_type": "code",
   "execution_count": null,
   "metadata": {},
   "outputs": [
    {
     "name": "stdout",
     "output_type": "stream",
     "text": [
      "[1, 3, 5, 7, 9]\n"
     ]
    }
   ],
   "source": [
    "odd_list = [1, 3, 5, 7, 9]\n",
    "even_list = [2, 4, 6, 8]\n",
    "print(odd_list)"
   ]
  },
  {
   "cell_type": "code",
   "execution_count": null,
   "metadata": {},
   "outputs": [
    {
     "name": "stdout",
     "output_type": "stream",
     "text": [
      "1\n",
      "3\n",
      "5\n",
      "7\n",
      "9\n"
     ]
    }
   ],
   "source": [
    "odd_list = [1, 3, 5, 7, 9]\n",
    "even_list = [2, 4, 6, 8]\n",
    "i = 0\n",
    "while i < len(odd_list):\n",
    "    print(odd_list[i])\n",
    "    i += 1"
   ]
  },
  {
   "cell_type": "code",
   "execution_count": null,
   "metadata": {},
   "outputs": [
    {
     "name": "stdout",
     "output_type": "stream",
     "text": [
      "[1, 2, 3, 4, 5, 6, 7, 8, 9]\n"
     ]
    }
   ],
   "source": [
    "odd_list = [1, 3, 5, 7, 9]\n",
    "even_list = [2, 4, 6, 8]\n",
    "list1 = odd_list + even_list\n",
    "\n",
    "list1.sort()\n",
    "print(list1)"
   ]
  },
  {
   "cell_type": "code",
   "execution_count": null,
   "metadata": {},
   "outputs": [
    {
     "name": "stdout",
     "output_type": "stream",
     "text": [
      "Mary Tan - S1234567A\n",
      "Steve Lim - S2340986T\n",
      "David Koh - T0276482Y\n",
      "Jared Ku - T0109845V\n",
      "Yeo Ming Ming - S6734278E\n",
      "James Sim - T007129K\n",
      "Aaron Smith - G7878439K\n",
      "Lam Lin Shan - S4456223G\n",
      "{'David Koh': 'T0276482Y', 'Jared Ku': 'T0109845V', 'James Sim': 'T007129K'}\n"
     ]
    }
   ],
   "source": [
    "name_list = {\"Mary Tan\": \"S1234567A\", \n",
    "             \"Steve Lim\": \"S2340986T\", \n",
    "             \"David Koh\": \"T0276482Y\", \n",
    "             \"Jared Ku\": \"T0109845V\", \n",
    "             \"Yeo Ming Ming\": \"S6734278E\", \n",
    "             \"James Sim\": \"T007129K\", \n",
    "             \"Aaron Smith\": \"G7878439K\" }\n",
    "starting_with_t = {}\n",
    "\n",
    "name_list[\"Lam Lin Shan\"] = \"S4456223G\"\n",
    "\n",
    "for key, value in name_list.items():\n",
    "    print(f\"{key} - {value}\")\n",
    "    if value.startswith(\"T\"):\n",
    "        starting_with_t[key] = value\n",
    "print(starting_with_t)\n",
    "\n",
    "\n"
   ]
  },
  {
   "cell_type": "code",
   "execution_count": null,
   "metadata": {},
   "outputs": [
    {
     "name": "stdout",
     "output_type": "stream",
     "text": [
      "Chemistry\n"
     ]
    }
   ],
   "source": [
    "my_tuple = (\"Physics\", \"Chemistry\", \"Mathematics\")\n",
    "\n",
    "print(my_tuple[1])"
   ]
  },
  {
   "cell_type": "code",
   "execution_count": null,
   "metadata": {},
   "outputs": [],
   "source": [
    "5 7 9 \n",
    "1 5 9\n",
    "9 7 5 3 1\n",
    "3 7 "
   ]
  },
  {
   "cell_type": "markdown",
   "metadata": {},
   "source": [
    "list1 = [1, 3, 5, 7, 9, 2, 4, 6, 8]\n",
    "odd_list = [1, 3, 5, 7, 9, 11]\n",
    "even_list = [2, 4, 6, 8, [1, 3, 5, 7, 9, 11]]\n"
   ]
  },
  {
   "cell_type": "code",
   "execution_count": null,
   "metadata": {},
   "outputs": [
    {
     "data": {
      "text/plain": [
       "[('Alice', 25), ('Bob', 30), ('Charlie', 35)]"
      ]
     },
     "execution_count": 5,
     "metadata": {},
     "output_type": "execute_result"
    }
   ],
   "source": [
    "dictionary_1 = {\"Alice\": 25, \"Bob\": 30, \"Charlie\": 35}\n",
    "list(dictionary_1.items())"
   ]
  },
  {
   "cell_type": "code",
   "execution_count": null,
   "metadata": {},
   "outputs": [
    {
     "name": "stdout",
     "output_type": "stream",
     "text": [
      "3\n"
     ]
    }
   ],
   "source": [
    "my_tuple = (1, 2, 3, 2, 2)\n",
    "print(my_tuple.count(2)) # count the number of times 2 appears in the tuple"
   ]
  },
  {
   "cell_type": "code",
   "execution_count": null,
   "metadata": {},
   "outputs": [
    {
     "name": "stdout",
     "output_type": "stream",
     "text": [
      "(1.1, (1, 2), ('red', 'blue'))\n"
     ]
    }
   ],
   "source": [
    "num_tup = (1, 2)\n",
    "color_tup = (\"red\", \"blue\")\n",
    "mix_tup = (1.1, num_tup, color_tup)\n",
    "print(mix_tup) # output will be (1.1, (1, 2), ('red', 'blue')). A tuple can contain other tuples with brackets."
   ]
  },
  {
   "cell_type": "markdown",
   "metadata": {},
   "source": [
    "Practical"
   ]
  },
  {
   "cell_type": "code",
   "execution_count": null,
   "metadata": {},
   "outputs": [],
   "source": [
    "# Question 1a while loop\n",
    "number_list = []\n",
    "i = 1\n",
    "while i < 11:\n",
    "    number_list.append(float(input(f\"Enter number {i}: \"))) \n",
    "    i += 1 \n",
    "\n",
    "print(\"The lowest number in the list:\", min(number_list))\n",
    "print(\"The highest number in the list:\", max(number_list))\n",
    "print(\"The total of the number in the list:\", sum(number_list))\n",
    "average = sum(number_list) / len(number_list)\n",
    "print(\"The average of the number in the list:\", average)"
   ]
  },
  {
   "cell_type": "code",
   "execution_count": null,
   "metadata": {},
   "outputs": [
    {
     "name": "stdout",
     "output_type": "stream",
     "text": [
      "The lowest number in the list: 7\n",
      "The highest number in the list: 97\n",
      "The total of the number in the list: 398\n",
      "The average of the number in the list: 39.8\n"
     ]
    }
   ],
   "source": [
    "# Question 1b for loop\n",
    "number_list = []\n",
    "number_of_records = int(input(\"Enter the number of records: \"))\n",
    "for i in range(number_of_records): \n",
    "    number_list.append(float(input(f\"Enter number #{i + 1}: \")))\n",
    "\n",
    "print(\"The lowest number in the list:\", min(number_list))\n",
    "print(\"The highest number in the list:\", max(number_list))\n",
    "print(\"The total of the number in the list:\", sum(number_list))\n",
    "average = sum(number_list) / len(number_list)\n",
    "print(\"The average of the number in the list:\", average)\n"
   ]
  },
  {
   "cell_type": "code",
   "execution_count": null,
   "metadata": {},
   "outputs": [
    {
     "name": "stdout",
     "output_type": "stream",
     "text": [
      "The lowest number in the list: 7.0\n",
      "The highest number in the list: 97.0\n",
      "The total of the number in the list: 398.0\n",
      "The average of the number in the list: 39.8\n"
     ]
    }
   ],
   "source": [
    "# Question 1c using for loop\n",
    "number_list = []\n",
    "i = 1\n",
    "while i < 11:\n",
    "    num = input(f\"Enter number #{i}: \")\n",
    "    if num.isdigit():\n",
    "        number_list.append(float(num))\n",
    "        i += 1\n",
    "    else:\n",
    "        print(\"Invalid number. Please enter a number.\")\n",
    "        continue\n",
    "\n",
    "print(\"The lowest number in the list:\", min(number_list))\n",
    "print(\"The highest number in the list:\", max(number_list))\n",
    "print(\"The total of the number in the list:\", sum(number_list))\n",
    "average = sum(number_list) / len(number_list)\n",
    "print(\"The average of the number in the list:\", average)\n",
    "\n"
   ]
  },
  {
   "cell_type": "code",
   "execution_count": 1,
   "metadata": {},
   "outputs": [
    {
     "name": "stdout",
     "output_type": "stream",
     "text": [
      "You have 2 correct answers and 8 wrong answers\n",
      "You have 1 correct answers and 9 wrong answers\n",
      "You have 3 correct answers and 7 wrong answers\n",
      "Your highest mark for Review Exercises is 3\n",
      "Review Exercise Answers:  \n",
      " ['C', 'D', 'B', 'A', 'B', 'D', 'A', 'C', 'D', 'C']\n"
     ]
    }
   ],
   "source": [
    "# Question 2a while loop\n",
    "highest_mark = 0\n",
    "while True:\n",
    "    correct_answers = [\"C\", \"D\", \"B\", \"A\", \"B\", \"D\", \"A\", \"C\", \"D\", \"C\"]\n",
    "    student_answers = [] # list is in the loop so that when user click \"Y\", it will be empty each time\n",
    "    count = 0\n",
    "    correct_count = 0\n",
    "    while count < 10:\n",
    "        student_answers.append(input(f\"MCQ #{count+1}: \").upper())\n",
    "        if correct_answers[count] == student_answers[count]:\n",
    "            correct_count += 1\n",
    "        count += 1\n",
    "    if correct_count > highest_mark:\n",
    "        highest_mark = correct_count\n",
    "    print(f\"You have {correct_count} correct answers and {len(correct_answers) - correct_count} wrong answers\")\n",
    "    if input(\"Do you want to try again? (Y/N)\").lower() == \"n\":\n",
    "        break\n",
    "print(f\"Your highest mark for Review Exercises is {highest_mark}\")\n",
    "print(f\"Review Exercise Answers:  \\n {correct_answers}\")"
   ]
  },
  {
   "cell_type": "code",
   "execution_count": null,
   "metadata": {},
   "outputs": [
    {
     "name": "stdout",
     "output_type": "stream",
     "text": [
      "{'Jane': 75, 'John': 60, 'Jerome': 81}\n"
     ]
    }
   ],
   "source": [
    "# Question 3\n",
    "english_marks = {\"Jane\": 75, \"John\": 60, \"Jerome\": 81}\n",
    "print(english_marks)"
   ]
  },
  {
   "cell_type": "code",
   "execution_count": null,
   "metadata": {},
   "outputs": [
    {
     "name": "stdout",
     "output_type": "stream",
     "text": [
      "======================\n",
      "There is no result for james\n"
     ]
    }
   ],
   "source": [
    "# Question 3b\n",
    "english_marks = {}\n",
    "english_marks[\"jane\"] = float(input(\"Jane:\"))\n",
    "english_marks[\"john\"] = float(input(\"John:\"))\n",
    "english_marks[\"jerome\"] = float(input(\"Jerome:\"))\n",
    "print(\"======================\")\n",
    "name = input(\"Enter student name: \").lower()\n",
    "if name in english_marks:\n",
    "    print(f\"Results for Engish: {english_marks[name]}\")\n",
    "else:\n",
    "    print(f\"There is no result for {name}\")"
   ]
  },
  {
   "cell_type": "code",
   "execution_count": null,
   "metadata": {},
   "outputs": [
    {
     "name": "stdout",
     "output_type": "stream",
     "text": [
      "Results of Jane:\n",
      "{'English': 75, 'Math': 80, 'Science': 85}\n"
     ]
    }
   ],
   "source": [
    "# Question 4a\n",
    "score = {\"Jane\": {\"English\": 75, \"Math\": 80, \"Science\": 85},\n",
    "         \"John\": {\"English\": 60, \"Math\": 68, \"Science\": 74},\n",
    "         \"Jerome\": {\"English\": 81, \"Math\": 63, \"Science\": 77},\n",
    "         \"Jason\": {\"English\": 55, \"Math\": 76, \"Science\": 67},\n",
    "         \"Jessica\": {\"English\": 62, \"Math\": 45, \"Science\": 68},\n",
    "         \"Joanne\": {\"English\": 52, \"Math\": 47, \"Science\": 51}\n",
    "         }\n",
    "search_name = input(\"Enter student name: \")\n",
    "if search_name in score:\n",
    "    print(f\"Results of {search_name}:\")\n",
    "    print(f\"{score[search_name]}\")\n",
    "\n",
    "    "
   ]
  },
  {
   "cell_type": "markdown",
   "metadata": {},
   "source": [
    "# Revision"
   ]
  },
  {
   "cell_type": "code",
   "execution_count": null,
   "metadata": {},
   "outputs": [
    {
     "name": "stdout",
     "output_type": "stream",
     "text": [
      "25\n"
     ]
    }
   ],
   "source": [
    "number_list = []\n",
    "for i in range(5):\n",
    "    number_list.append(int(input(f\"Enter the #{i+1}:\")))\n",
    "print(sum(number_list))"
   ]
  },
  {
   "cell_type": "code",
   "execution_count": null,
   "metadata": {},
   "outputs": [
    {
     "name": "stdout",
     "output_type": "stream",
     "text": [
      "Jane is 25 years old.\n",
      "Jane is 25 years old.\n",
      "John is 30 years old.\n",
      "Error\n"
     ]
    }
   ],
   "source": [
    "student_and_age = {\"Jane\": 25, \"John\": 30, \"Jerome\": 35, \"Jason\": 40}\n",
    "while True:\n",
    "    name = input(\"Enter a name: \")\n",
    "    if name in student_and_age:\n",
    "        print(f\"{name} is {student_and_age[name]} years old.\")  \n",
    "    else:\n",
    "        error = student_and_age.get(name, \"Error\")\n",
    "        print(error)\n",
    "        break"
   ]
  },
  {
   "cell_type": "markdown",
   "metadata": {},
   "source": [
    "number_list = []\n",
    "even_list = []\n",
    "while True:\n",
    "    repeat = int(input(\"How many times do you want to enter the numbers? \"))\n",
    "    for i in range(repeat):\n",
    "        number_list.append(int(input(\"Enter a number: \")))\n",
    "\n",
    "for j in number_list:\n",
    "    if j % 2 == 0:\n",
    "        even_list.append(j)\n",
    "\n",
    "print(sum(even_list))\n"
   ]
  },
  {
   "cell_type": "code",
   "execution_count": null,
   "metadata": {},
   "outputs": [
    {
     "name": "stdout",
     "output_type": "stream",
     "text": [
      "6\n"
     ]
    }
   ],
   "source": [
    "number_list = []\n",
    "even_list = []\n",
    "\n",
    "repeat = int(input(\"How many times do you want to enter the numbers? \"))\n",
    "for i in range(repeat):\n",
    "        number_list.append(int(input(\"Enter a number: \")))\n",
    "\n",
    "for j in number_list:\n",
    "    if j % 2 == 0:\n",
    "        even_list.append(j)\n",
    "\n",
    "print(sum(even_list))\n"
   ]
  },
  {
   "cell_type": "markdown",
   "metadata": {},
   "source": [
    "student_names_and_grades = {}\n",
    "student_grades = ((20, 30, 50), (30, 40, 45), (50, 90, 80))"
   ]
  },
  {
   "cell_type": "markdown",
   "metadata": {},
   "source": [
    "Revision Lists and tuples"
   ]
  },
  {
   "cell_type": "code",
   "execution_count": 2,
   "metadata": {},
   "outputs": [
    {
     "name": "stdout",
     "output_type": "stream",
     "text": [
      "The lowest number is 1\n",
      "The higest number is 10\n",
      "The total of the numbers in the list is 55\n",
      "The average of the numbers in the list: 5.5\n"
     ]
    }
   ],
   "source": [
    "numbers = []\n",
    "number_of_records = int(input(\"Enter the number of records: \"))\n",
    "for i in range(number_of_records):\n",
    "    numbers.append(int(input(f\"Enter number {i+1}: \")))\n",
    "print(f\"The lowest number is {min(numbers)}\")\n",
    "print(f\"The higest number is {max(numbers)}\")\n",
    "print(f\"The total of the numbers in the list is {sum(numbers)}\")\n",
    "print(f\"The average of the numbers in the list: {sum(numbers) / len(numbers)}\")"
   ]
  },
  {
   "cell_type": "code",
   "execution_count": 3,
   "metadata": {},
   "outputs": [
    {
     "name": "stdout",
     "output_type": "stream",
     "text": [
      "The lowest number is 1\n",
      "The higest number is 10\n",
      "The total of the numbers in the list is 55\n",
      "The average of the numbers in the list: 5.5\n"
     ]
    }
   ],
   "source": [
    "numbers = []\n",
    "count = 0\n",
    "number_of_records = int(input(\"Enter the number of records: \"))\n",
    "while count < number_of_records:\n",
    "    numbers.append(int(input(f\"Enter number #{count+1}\")))\n",
    "    count += 1\n",
    "print(f\"The lowest number is {min(numbers)}\")\n",
    "print(f\"The higest number is {max(numbers)}\")\n",
    "print(f\"The total of the numbers in the list is {sum(numbers)}\")\n",
    "print(f\"The average of the numbers in the list: {sum(numbers) / len(numbers)}\")"
   ]
  },
  {
   "cell_type": "code",
   "execution_count": 8,
   "metadata": {},
   "outputs": [
    {
     "name": "stdout",
     "output_type": "stream",
     "text": [
      "Please try again\n",
      "Please try again\n",
      "Please try again\n",
      "Please try again\n",
      "Please try again\n",
      "Please try again\n",
      "Please try again\n",
      "Please try again\n",
      "Please try again\n",
      "Please try again\n",
      "Please try again\n",
      "The lowest number is 1\n",
      "The higest number is 10\n",
      "The total of the numbers in the list is 55\n",
      "The average of the numbers in the list: 5.5\n"
     ]
    }
   ],
   "source": [
    "numbers = []\n",
    "count = 1\n",
    "while True:\n",
    "    number_input = input(f\"Enter number #{count}: \")\n",
    "    if number_input.isnumeric():\n",
    "        numbers.append(int(number_input))\n",
    "        if count == 10:\n",
    "            break\n",
    "        count += 1\n",
    "    else:\n",
    "        print(\"Please try again\")\n",
    "\n",
    "print(f\"The lowest number is {min(numbers)}\")\n",
    "print(f\"The higest number is {max(numbers)}\")\n",
    "print(f\"The total of the numbers in the list is {sum(numbers)}\")\n",
    "print(f\"The average of the numbers in the list: {sum(numbers) / len(numbers)}\")"
   ]
  },
  {
   "cell_type": "code",
   "execution_count": 1,
   "metadata": {},
   "outputs": [
    {
     "name": "stdout",
     "output_type": "stream",
     "text": [
      "You have 0 correct answers and 10 wrong answers\n",
      "You have 0 correct answers and 10 wrong answers\n"
     ]
    }
   ],
   "source": [
    "highest_mark = 0\n",
    "while True:\n",
    "    correct_answers = [\"C\", \"D\", \"B\", \"A\", \"B\", \"D\", \"A\", \"C\", \"D\", \"C\"]\n",
    "    student_answers = []\n",
    "    count = 0\n",
    "    correct_count = 0\n",
    "    while count < 10:\n",
    "        student_answers.append(input(f\"MCQ #{count+1}: \").upper())\n",
    "        if correct_answers[count] == student_answers[count]:\n",
    "            correct_count += 1\n",
    "        count += 1\n",
    "    if correct_count > highest_mark:\n",
    "        highest_mark = correct_count\n",
    "    print(f\"You have {correct_count} correct answers and {len(correct_answers) - correct_count} wrong answers\")\n",
    "    if input(\"Do you want to try again? (Y/N)\").lower() == \"n\":\n",
    "        break\n",
    "print(f\"Your highest mark for Review Exercises is {highest_mark}\")\n",
    "print(f\"Review Exercise Answers:  \\n {correct_answers}\")\n"
   ]
  },
  {
   "cell_type": "markdown",
   "metadata": {},
   "source": [
    "Revision Strings"
   ]
  },
  {
   "cell_type": "code",
   "execution_count": 5,
   "metadata": {},
   "outputs": [
    {
     "name": "stdout",
     "output_type": "stream",
     "text": [
      "Character w at position 0\n",
      "Character 3 at position 1\n",
      "Character   at position 2\n",
      "Character s at position 3\n",
      "Character c at position 4\n",
      "Character h at position 5\n",
      "Character o at position 6\n",
      "Character o at position 6\n",
      "Character l at position 8\n"
     ]
    }
   ],
   "source": [
    "user_input = input(\"Enter a string: \")\n",
    "for i in user_input:\n",
    "    print(f\"Character {i} at position {user_input.index(i)}\")   "
   ]
  },
  {
   "cell_type": "code",
   "execution_count": 6,
   "metadata": {},
   "outputs": [
    {
     "name": "stdout",
     "output_type": "stream",
     "text": [
      "Character w at position 0\n",
      "Character 3 at position 1\n",
      "Character   at position 2\n",
      "Character s at position 3\n",
      "Character c at position 4\n",
      "Character h at position 5\n",
      "Character o at position 6\n",
      "Character o at position 7\n",
      "Character l at position 8\n"
     ]
    }
   ],
   "source": [
    "user_input = input(\"Enter a string: \")\n",
    "count = 0\n",
    "while count < len(user_input):\n",
    "    print(f\"Character {user_input[count]} at position {count}\")\n",
    "    count += 1\n",
    "    "
   ]
  },
  {
   "cell_type": "markdown",
   "metadata": {},
   "source": [
    "user_input = input(\"Enter a string: \")\n",
    "list_string = []\n",
    "for i in user_input:\n",
    "    list_string.append(i)\n",
    "\n",
    "for j in list_string:\n",
    "    if j == \" \":\n",
    "        list_string.remmove(j)\n",
    "print(list_string.sep(\"\"))"
   ]
  },
  {
   "cell_type": "markdown",
   "metadata": {},
   "source": [
    "user_input = input(\"Enter a string: \")\n",
    "user_input.replace(\" \", \"\")\n",
    "print(user_input)"
   ]
  },
  {
   "cell_type": "code",
   "execution_count": 2,
   "metadata": {},
   "outputs": [
    {
     "name": "stdout",
     "output_type": "stream",
     "text": [
      "TheLazyDog\n"
     ]
    }
   ],
   "source": [
    "user_input = input(\"Enter a string: \")\n",
    "print(user_input.replace(\" \", \"\"))"
   ]
  },
  {
   "cell_type": "code",
   "execution_count": 2,
   "metadata": {},
   "outputs": [
    {
     "name": "stdout",
     "output_type": "stream",
     "text": [
      "THE LAZY JAYEN\n"
     ]
    }
   ],
   "source": [
    "user_input = input(\"Enter a string: \") # \"HelloWorld2\"\n",
    "count = 0\n",
    "for i in user_input:\n",
    "    if i.isupper():\n",
    "        count += 1\n",
    "if count >= 2:\n",
    "    print(user_input.upper())\n",
    "else:\n",
    "    print(\"The string contains less than 2 uppercase characters\")"
   ]
  },
  {
   "cell_type": "markdown",
   "metadata": {},
   "source": [
    "phone_number = \"+6565501687\"\n",
    "print(f\"({phone_number[0:3]}), {phone_number[3:7]}, {phone_number[7:]}\")"
   ]
  },
  {
   "cell_type": "code",
   "execution_count": 6,
   "metadata": {},
   "outputs": [
    {
     "name": "stdout",
     "output_type": "stream",
     "text": [
      "(+65) 6550 1687\n"
     ]
    }
   ],
   "source": [
    "phone_number = \"+6565501687\"\n",
    "print(f\"({phone_number[0:3]}) {phone_number[3:7]} {phone_number[7:]}\")"
   ]
  },
  {
   "cell_type": "code",
   "execution_count": 7,
   "metadata": {},
   "outputs": [
    {
     "name": "stdout",
     "output_type": "stream",
     "text": [
      "The output is: abz and xyc\n"
     ]
    }
   ],
   "source": [
    "string1 = input(\"Enter a string: \")\n",
    "string2 = input(\"Enter another string: \")\n",
    "\n",
    "print(f\"The output is: {string1[:-1]}{string2[-1]} and {string2[:-1]}{string1[-1]}\")"
   ]
  },
  {
   "cell_type": "code",
   "execution_count": 8,
   "metadata": {},
   "outputs": [
    {
     "name": "stdout",
     "output_type": "stream",
     "text": [
      "5\n"
     ]
    }
   ],
   "source": [
    "string1 = \"happt\"\n",
    "print(len(string1))"
   ]
  },
  {
   "cell_type": "code",
   "execution_count": 9,
   "metadata": {},
   "outputs": [
    {
     "name": "stdout",
     "output_type": "stream",
     "text": [
      "2  is a prime number\n",
      "3  is a prime number\n",
      "5  is a prime number\n",
      "7  is a prime number\n"
     ]
    }
   ],
   "source": [
    "for i in range(2,10):\n",
    "    prime = True\n",
    "    for d in range(2, i):\n",
    "        if i % d == 0:\n",
    "            prime = False\n",
    "            break  \n",
    "    if prime:\n",
    "        print(i,\" is a prime number\")"
   ]
  },
  {
   "cell_type": "code",
   "execution_count": 11,
   "metadata": {},
   "outputs": [
    {
     "name": "stdout",
     "output_type": "stream",
     "text": [
      "happy\n"
     ]
    }
   ],
   "source": [
    "list = [1, 2, 3, 4, 5, \"happy\"]\n",
    "print(list[5])"
   ]
  },
  {
   "cell_type": "code",
   "execution_count": 2,
   "metadata": {},
   "outputs": [
    {
     "name": "stdout",
     "output_type": "stream",
     "text": [
      "IP11, $1000, $1250.0\n",
      "GA12, $500, $625.0\n"
     ]
    }
   ],
   "source": [
    "dict = {\"IP11\": {\"product\": \"iPhone 11\", \"price\": 1000},\n",
    "        \"GA12\": {\"product\": \"Galaxy A12\", \"price\": 500},\n",
    "}\n",
    "\n",
    "for key, value in dict.items():\n",
    "    print(f\"{key}, ${value['price']}, ${value['price'] * (125/100)}\")"
   ]
  },
  {
   "cell_type": "markdown",
   "metadata": {},
   "source": [
    "# Week 14"
   ]
  },
  {
   "cell_type": "code",
   "execution_count": 2,
   "metadata": {},
   "outputs": [
    {
     "name": "stdout",
     "output_type": "stream",
     "text": [
      "The sum of 2 and 3 is 5\n"
     ]
    }
   ],
   "source": [
    "# addition function\n",
    "def addition():\n",
    "    num1 = int(input(\"Enter first number: \"))\n",
    "    num2 = int(input(\"Enter second number: \"))\n",
    "    print(f\"The sum of {num1} and {num2} is {num1 + num2}\")\n",
    "\n",
    "addition()\n"
   ]
  },
  {
   "cell_type": "code",
   "execution_count": null,
   "metadata": {},
   "outputs": [],
   "source": [
    "# Question 1\n",
    "def is_valid_nric(s):\n",
    "    valid = False\n",
    "    s = s.upper()\n",
    "    if len(s[1:-1]) == 7 and s[1:-1].isdigit():\n",
    "        if s[0] == \"S\" or s[0] == \"T\":\n",
    "            if s[-1].isalpha():\n",
    "                valid = True\n",
    "    return valid\n",
    "\n",
    "print(is_valid_nric(\"t1234567e\"))\n",
    "print(is_valid_nric(\"s12345677\"))\n",
    "print(is_valid_nric(\"s\"))\n",
    "print(is_valid_nric(\"s22wwwwwE\"))\n",
    "\n",
    "# NRIC Checker\n",
    "# 7 digits\n",
    "# starts with s or t\n",
    "# ends with alphabet"
   ]
  },
  {
   "cell_type": "code",
   "execution_count": null,
   "metadata": {},
   "outputs": [],
   "source": [
    "# Question 2\n",
    "def convert_usd(sgd):\n",
    "    usd = sgd * 0.73\n",
    "    return usd\n",
    "\n",
    "\n",
    "def convert_eur(sgd):\n",
    "    eur = sgd * 0.63\n",
    "    return eur\n",
    "\n",
    "\n",
    "while True:\n",
    "    currency = input(\"Enter the currency to convert to (USD, EUR): \")\n",
    "    if currency.lower() == \"usd\":\n",
    "        amount = input(\"Enter the amount to convert (SGD): \")\n",
    "        if amount.isdigit():\n",
    "            amount = int(amount)\n",
    "            print(f\"{amount} SGD is {convert_usd(amount)} USD\")\n",
    "            break\n",
    "        else:\n",
    "            print(\"Please enter a valid amount.\")\n",
    "    elif currency.lower() == \"eur\":\n",
    "        amount = input(\"Enter the amount to convert (SGD): \")\n",
    "        if amount.isdigit():\n",
    "            amount = int(amount)\n",
    "            print(f\"{amount} SGD is {convert_eur(amount)} EUR\")\n",
    "            break\n",
    "        else:\n",
    "            print(\"Please enter a valid amount.\")\n",
    "    else:\n",
    "        print(f\"Invalid currency. We are not able to convert from SGD to {currency}.\")\n",
    "\n"
   ]
  },
  {
   "cell_type": "code",
   "execution_count": null,
   "metadata": {},
   "outputs": [],
   "source": [
    "# Question 3\n",
    "\n",
    "import random\n",
    "#this function will use the randint to generate a random number from 1 to 100 (inclusive)\n",
    "\n",
    "\n",
    "def generate_number():\n",
    "    return random.randint(1,100)\n",
    "\n",
    "\n",
    "\"\"\"\n",
    "This part of the codes is to compare two numbers. How is the \n",
    "Bingo game played?\n",
    "For bingo game, you need to compare the number entered by the \n",
    "player and the number they need to guess.\n",
    "This function helps to compare and returns a hint. It returns \n",
    "Bingo if user guessed correctly\n",
    "\"\"\"\n",
    "\n",
    "\n",
    "def compare(guessed_number, actual_number):\n",
    "    if guessed_number > actual_number:\n",
    "        result = 'Too high'\n",
    "    elif guessed_number < actual_number:\n",
    "        result = 'Too low'\n",
    "    else:\n",
    "        result = 'Bingo'\n",
    "    return result # result will be returned to compare(guessed_number, actual_number)\n",
    "\n",
    "\n",
    "answer = generate_number()\n",
    "score = 100\n",
    "while True:\n",
    "    guess = input(\"Enter a number between 1 to 100: \")\n",
    "    if guess.isdigit():\n",
    "        guess = int(guess)\n",
    "        result = compare(guess, answer)\n",
    "        print(compare(guess, answer))\n",
    "        if result == \"Bingo\":\n",
    "            print(f\"The number is {answer} and your score is {score}\")\n",
    "            break\n",
    "        else:\n",
    "            score = score - 1\n",
    "            print(score)\n",
    "    else:\n",
    "        print(\"Please try again\")\n"
   ]
  },
  {
   "cell_type": "markdown",
   "metadata": {},
   "source": [
    "# Revision"
   ]
  },
  {
   "cell_type": "code",
   "execution_count": 2,
   "metadata": {},
   "outputs": [
    {
     "name": "stdout",
     "output_type": "stream",
     "text": [
      "9.0\n",
      "0.6300000000000001\n",
      "9.63\n"
     ]
    }
   ],
   "source": [
    "unit_price = float(input(\"Enter the unit price: \"))\n",
    "copies = int(input(\"Enter the number of copies: \"))\n",
    "gst = 7/100\n",
    "\n",
    "subtotal = unit_price * copies\n",
    "gst_charges = gst * subtotal\n",
    "total_amount = subtotal + gst_charges\n",
    "print(f\"{subtotal}\")\n",
    "print(f\"{gst_charges}\")\n",
    "print(f\"{total_amount}\")"
   ]
  }
 ],
 "metadata": {
  "kernelspec": {
   "display_name": "Python 3",
   "language": "python",
   "name": "python3"
  },
  "language_info": {
   "codemirror_mode": {
    "name": "ipython",
    "version": 3
   },
   "file_extension": ".py",
   "mimetype": "text/x-python",
   "name": "python",
   "nbconvert_exporter": "python",
   "pygments_lexer": "ipython3",
   "version": "3.12.5"
  }
 },
 "nbformat": 4,
 "nbformat_minor": 2
}
