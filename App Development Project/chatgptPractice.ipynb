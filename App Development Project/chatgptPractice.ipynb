{
 "cells": [
  {
   "cell_type": "markdown",
   "metadata": {},
   "source": [
    "# Chat GPT Practices"
   ]
  },
  {
   "cell_type": "code",
   "execution_count": 1,
   "metadata": {},
   "outputs": [
    {
     "name": "stdout",
     "output_type": "stream",
     "text": [
      "The car color is red.\n"
     ]
    }
   ],
   "source": [
    "# Write a Python class called Car. \n",
    "# The class should have an attribute \"color\" and a method describe() that prints out the car's color. \n",
    "# Create an object of this class and call the describe() method.\n",
    "\n",
    "class Car:\n",
    "    def __init__(self):\n",
    "        self.__color = \"red\"\n",
    "\n",
    "    def describe(self):\n",
    "        print(f\"The car color is {self.__color}.\")\n",
    "\n",
    "\n",
    "car = Car()\n",
    "car.describe()"
   ]
  },
  {
   "cell_type": "code",
   "execution_count": 2,
   "metadata": {},
   "outputs": [
    {
     "name": "stdout",
     "output_type": "stream",
     "text": [
      "Golden Retriever Woof!\n",
      "Shiba Inu Woof!\n"
     ]
    }
   ],
   "source": [
    "# Create a class called Dog with an attribute \"breed\". \n",
    "# Write a method bark() that prints \"Woof!\" when called. \n",
    "# Create two objects of the class with different breeds and call the bark() method for each.\n",
    "\n",
    "class Dog:\n",
    "    def __init__(self, breed):\n",
    "        self.__breed = breed\n",
    "\n",
    "    def bark(self):\n",
    "        print(self.__breed, \"Woof!\")\n",
    "\n",
    "\n",
    "dog1 = Dog(\"Golden Retriever\")\n",
    "dog2 = Dog(\"Shiba Inu\")\n",
    "\n",
    "dog1.bark()\n",
    "dog2.bark()"
   ]
  },
  {
   "cell_type": "code",
   "execution_count": 3,
   "metadata": {},
   "outputs": [
    {
     "name": "stdout",
     "output_type": "stream",
     "text": [
      "Title: Harry Potter, Author: JK Rowling\n"
     ]
    }
   ],
   "source": [
    "# Define a class Book that takes the title and author as parameters when creating an object. \n",
    "# Add a method display_info() that prints the title and author of the book.\n",
    "\n",
    "class Book:\n",
    "    def __init__(self, title, author):\n",
    "        self.__title = title\n",
    "        self.__author = author\n",
    "\n",
    "    def display_info(self):\n",
    "        return f\"Title: {self.__title}, Author: {self.__author}\"\n",
    "\n",
    "\n",
    "book1 = Book(\"Harry Potter\", \"JK Rowling\")\n",
    "print(book1.display_info())"
   ]
  },
  {
   "cell_type": "code",
   "execution_count": 4,
   "metadata": {},
   "outputs": [
    {
     "name": "stdout",
     "output_type": "stream",
     "text": [
      "Title: Harry Potter, Author: JK Rowling\n"
     ]
    }
   ],
   "source": [
    "# Define a class Book that takes the title and author as parameters when creating an object. \n",
    "# Add a method display_info() that prints the title and author of the book.\n",
    "# encapsulation method\n",
    "\n",
    "class Book:\n",
    "    def __init__(self, title = None, author = None):\n",
    "        self.__title = title\n",
    "        self.__author = author\n",
    "\n",
    "    def set_title(self, title):\n",
    "        self.__title = title\n",
    "\n",
    "    def set_author(self, author):\n",
    "        self.__author = author\n",
    "\n",
    "    def get_title(self):\n",
    "        return self.__title\n",
    "\n",
    "    def get_author(self):\n",
    "        return self.__author\n",
    "\n",
    "    def display_info(self):\n",
    "        print(f\"Title: {self.get_title()}, Author: {self.get_author()}\")\n",
    "\n",
    "\n",
    "book1 = Book()\n",
    "book1.set_title(\"Harry Potter\")\n",
    "book1.set_author(\"JK Rowling\")\n",
    "book1.display_info()"
   ]
  },
  {
   "cell_type": "code",
   "execution_count": 5,
   "metadata": {},
   "outputs": [
    {
     "name": "stdout",
     "output_type": "stream",
     "text": [
      "Meow\n"
     ]
    }
   ],
   "source": [
    "# Create a class Animal with a method make_sound() that prints \"Some sound\". \n",
    "# Create another class Cat that inherits from Animal and overrides the make_sound() method to print \"Meow\". \n",
    "# Create an object of Cat and call the make_sound() method.\n",
    "\n",
    "class Animal:\n",
    "    def make_sound(self):\n",
    "        print(\"Some sound\")\n",
    "\n",
    "\n",
    "class Cat(Animal):\n",
    "    def make_sound(self):\n",
    "        print(\"Meow\")\n",
    "\n",
    "cat = Cat()\n",
    "cat.make_sound()"
   ]
  },
  {
   "cell_type": "code",
   "execution_count": 6,
   "metadata": {},
   "outputs": [
    {
     "name": "stdout",
     "output_type": "stream",
     "text": [
      "Insufficient balance for withdrawal!\n"
     ]
    }
   ],
   "source": [
    "# Create a class BankAccount that has a private attribute __balance. \n",
    "# Add methods to deposit and withdraw money, ensuring that the balance cannot go below zero. \n",
    "# Add a method to print the current balance.\n",
    "\n",
    "class BankAccount:\n",
    "    def __init__(self, balance_, choice_, amount_):\n",
    "        self.__balance = balance_\n",
    "        self.__choice = choice_\n",
    "        self.__amount = amount_\n",
    "\n",
    "    def withdraw(self):\n",
    "        if self.__balance > self.__amount:\n",
    "            self.__balance = self.__balance - self.__amount\n",
    "        else:\n",
    "            print(\"Insufficient balance for withdrawal!\")\n",
    "\n",
    "    def deposit(self):\n",
    "        self.__balance = self.__balance + self.__amount\n",
    "        print(f\"${self.__balance} after deposit of ${self.__amount}\")\n",
    "\n",
    "\n",
    "balance = float(input(\"Enter your balance: \"))\n",
    "choice = input(\"Deposit or Withdraw: \")\n",
    "amount = float(input(\"Enter amount: \"))\n",
    "user1 = BankAccount(balance, choice, amount)\n",
    "\n",
    "if choice.lower() == \"deposit\":\n",
    "    user1.deposit()\n",
    "elif choice.lower() == \"withdraw\":\n",
    "    user1.withdraw()"
   ]
  },
  {
   "cell_type": "code",
   "execution_count": 7,
   "metadata": {},
   "outputs": [
    {
     "name": "stdout",
     "output_type": "stream",
     "text": [
      "Name: John, Age: 45\n"
     ]
    }
   ],
   "source": [
    "# Create a class Person that has attributes name and age. \n",
    "# Implement the __str__() method to return a string representation of the Person object. \n",
    "# Create a few objects of this class and print them.\n",
    "\n",
    "class Person:\n",
    "    def __init__(self, name, age):\n",
    "        self.__name = name\n",
    "        self.__age = age\n",
    "\n",
    "    def __str__(self):\n",
    "        return f\"Name: {self.__name}, Age: {self.__age}\"\n",
    "\n",
    "person1 = Person(\"John\", 45)\n",
    "print(person1.__str__())"
   ]
  },
  {
   "cell_type": "code",
   "execution_count": 8,
   "metadata": {},
   "outputs": [
    {
     "name": "stdout",
     "output_type": "stream",
     "text": [
      "Company: TechCorp, Employee: Alice\n",
      "Company: TechCorp, Employee: Bob\n"
     ]
    }
   ],
   "source": [
    "# Create a class Employee with a class attribute company_name and an instance attribute name. \n",
    "# The class attribute should be the same for all objects, while the instance attribute should be unique to each object. \n",
    "# Add a method display_employee_info() to print both the company name and the employee's name.\n",
    "\n",
    "class Employee:\n",
    "    company_name = \"TechCorp\"\n",
    "\n",
    "    def __init__(self, name):\n",
    "        self.__name = name\n",
    "\n",
    "    def display_employee_info(self):\n",
    "        print(f\"Company: {Employee.company_name}, Employee: {self.__name}\")\n",
    "\n",
    "\n",
    "employee1 = Employee(\"Alice\")\n",
    "employee2 = Employee(\"Bob\")\n",
    "employee1.display_employee_info()\n",
    "employee2.display_employee_info()"
   ]
  },
  {
   "cell_type": "code",
   "execution_count": 9,
   "metadata": {},
   "outputs": [
    {
     "name": "stdout",
     "output_type": "stream",
     "text": [
      "9\n"
     ]
    }
   ],
   "source": [
    "# Write a class MathHelper with a static method add_numbers(x, y) that returns the sum of two numbers. \n",
    "# Call the method without creating an instance of the class.\n",
    "\n",
    "class MathHelper:\n",
    "    @staticmethod\n",
    "    def math(x, y):\n",
    "        return x + y\n",
    "\n",
    "print(MathHelper.math(4, 5))\n",
    "# you do not need to create instances/object to use the static method"
   ]
  },
  {
   "cell_type": "code",
   "execution_count": 11,
   "metadata": {},
   "outputs": [
    {
     "name": "stdout",
     "output_type": "stream",
     "text": [
      "Engine starting\n",
      "Truck engine starting\n"
     ]
    }
   ],
   "source": [
    "# Create a base class Vehicle with a method start_engine() that prints \"Engine starting\". \n",
    "# Create a subclass Truck that overrides the start_engine() method to print \"Truck engine starting\". \n",
    "# Create objects of both Vehicle and Truck and call their start_engine() methods.\n",
    "\n",
    "class Vehicle:\n",
    "    def start_engine(self):\n",
    "        print(\"Engine starting\")\n",
    "\n",
    "class Truck(Vehicle):\n",
    "    def start_engine(self):\n",
    "        print(\"Truck engine starting\")\n",
    "\n",
    "vehicle = Vehicle()\n",
    "vehicle2 = Truck()\n",
    "\n",
    "vehicle.start_engine()\n",
    "vehicle2.start_engine()\n"
   ]
  },
  {
   "cell_type": "code",
   "execution_count": 12,
   "metadata": {},
   "outputs": [
    {
     "name": "stdout",
     "output_type": "stream",
     "text": [
      "4\n"
     ]
    }
   ],
   "source": [
    "# Create a class Library with a class variable total_books. \n",
    "# Each time a new book is added (by creating an object of a Book class), \n",
    "# increment the total_books by 1. \n",
    "# Print the total number of books after creating several book objects.\n",
    "\n",
    "class Library:\n",
    "    total_books = 0\n",
    "    \n",
    "    def __init__(self):\n",
    "        Library.total_books += 1 # increment the total_books by 1, access the class variable using the class name\n",
    "\n",
    "\n",
    "asset = Library()\n",
    "asset2 = Library()\n",
    "asset3 = Library()\n",
    "asset4 = Library()\n",
    "\n",
    "print(Library.total_books)"
   ]
  }
 ],
 "metadata": {
  "kernelspec": {
   "display_name": "Python 3",
   "language": "python",
   "name": "python3"
  },
  "language_info": {
   "codemirror_mode": {
    "name": "ipython",
    "version": 3
   },
   "file_extension": ".py",
   "mimetype": "text/x-python",
   "name": "python",
   "nbconvert_exporter": "python",
   "pygments_lexer": "ipython3",
   "version": "3.12.5"
  }
 },
 "nbformat": 4,
 "nbformat_minor": 2
}
