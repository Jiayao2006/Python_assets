{
 "cells": [
  {
   "cell_type": "markdown",
   "metadata": {},
   "source": [
    "# Recap on workshop materials"
   ]
  },
  {
   "cell_type": "markdown",
   "metadata": {},
   "source": [
    "# PEP Talk\n",
    "Imports: Move all import statements to the top of the file and follow the correct ordering. <br>\n",
    "Variable Naming: Variable names should be in snake_case.<br>\n",
    "Function Naming: Function names should be in snake_case.<br>\n",
    "Whitespace: Fix issues related to whitespace around operators, after commas, and other PEP 8 whitespace guidelines.<br>\n",
    "Line Length: Limit all lines to a maximum of 79 characters.<br>\n",
    "Comments:<br>\n",
    "Use proper spacing for comments.<br>\n",
    "Inline comments should be separated by at least two spaces from the statement.<br>\n",
    "Ensure functions have appropriate docstrings.<br>\n",
    "Function Spacing: Surround (before and after) top-level function definitions with two blank lines.<br>"
   ]
  },
  {
   "cell_type": "code",
   "execution_count": 1,
   "metadata": {},
   "outputs": [
    {
     "name": "stdout",
     "output_type": "stream",
     "text": [
      "Total Sum: 3\n",
      "Total Product: 12\n",
      "Total Difference: -1\n",
      "Total Quotient: 0.875\n"
     ]
    }
   ],
   "source": [
    "import sys\n",
    "def Calc_Sum(x,y):\n",
    "    return x+y\n",
    "\n",
    "def calc_product(x,y):\n",
    "    return x*y\n",
    "list_Of_Numbers = [1,2,3,4,5,6,7,8,9,10]\n",
    "\n",
    "from math import pow\n",
    "TOTAL_SUM = Calc_Sum(list_Of_Numbers[0], list_Of_Numbers[1])\n",
    "print(\"Total Sum:\", TOTAL_SUM)\n",
    "\n",
    "def calc_difference(x, y):\n",
    "    return x - y # calculate difference\n",
    "\n",
    "TOTAL_PRODUCT = calc_product(list_Of_Numbers[2], list_Of_Numbers[3]);print(\"Total Product:\", TOTAL_PRODUCT)\n",
    "\n",
    "def Calc_Quotient(x,y):\n",
    "    if y==0:\n",
    "        print(\"Error: Cannot divide by zero.\")\n",
    "        return None\n",
    "    else:\n",
    "        return x/y\n",
    "     \n",
    "TOTAL_DIFFERENCE = calc_difference(list_Of_Numbers[4], list_Of_Numbers[5]); print(\"Total Difference:\", TOTAL_DIFFERENCE)\n",
    "\n",
    "import os\n",
    "TOTAL_QUOTIENT = Calc_Quotient(list_Of_Numbers[6], list_Of_Numbers[7])\n",
    "print(\"Total Quotient:\", TOTAL_QUOTIENT)"
   ]
  },
  {
   "cell_type": "markdown",
   "metadata": {},
   "source": [
    "# Whats up doc?\n",
    "Understand what this code does, and restore the missing variable and function names, and the documentation."
   ]
  },
  {
   "cell_type": "code",
   "execution_count": null,
   "metadata": {},
   "outputs": [],
   "source": [
    "import random\n",
    "\n",
    "def random_number(size, lower_bound, upper_bound): # random numbers\n",
    "    result = []\n",
    "    for num in range(size): # for each number in the range of size\n",
    "        result.append(random.randint(lower_bound, upper_bound))\n",
    "    return result\n",
    "\n",
    "def even(numbers): # even numbers\n",
    "    even_numbers = []\n",
    "    for num in numbers:\n",
    "        if num % 2 == 0:\n",
    "            even_numbers.append(num)\n",
    "    return even_numbers\n",
    "\n",
    "def mystery_function_3(numbers):\n",
    "    mystery_list = []\n",
    "    for num in numbers:\n",
    "        if num < 2:\n",
    "            continue\n",
    "        for i in range(2, int(num ** 0.5) + 1): # for each number in the range of 2 to the square root of the number\n",
    "            if num % i == 0: # if the number is divisible by i\n",
    "                break\n",
    "        else:\n",
    "            mystery_list.append(num)\n",
    "    return mystery_list\n",
    "\n",
    "def mystery_function_4(numbers):\n",
    "    return sum(numbers)"
   ]
  },
  {
   "cell_type": "markdown",
   "metadata": {},
   "source": [
    "# Its Time\n",
    "Create a Python script that allows users to repeatedly start and stop a timer for given tasks.\n",
    "\n",
    "After each task is completed, the script will print the duration of the task, then ask for the next task name.\n",
    "\n",
    "If the user enters \"exit\" instead of a task name, the script will stop and print a summary of all tasks and their respective durations."
   ]
  },
  {
   "cell_type": "code",
   "execution_count": 29,
   "metadata": {},
   "outputs": [],
   "source": [
    "    # Create a Python script that allows users to repeatedly start and stop a timer for given tasks.\n",
    "    # After each task is completed, the script will print the duration of the task, then ask for the next task name.\n",
    "    # If the user enters \"exit\" instead of a task name, the script will stop and print a summary of all tasks and their respective durations.\n",
    "\n",
    "    # Example Output \n",
    "    # Enter the task name to start (or 'exit' to stop): Writing report\n",
    "    # Starting task 'Writing report'...\n",
    "    # Press Enter to stop the task... \n",
    "    # Task 'Writing report' completed in 42.95 seconds.\n",
    "\n",
    "    # Enter the task name to start (or 'exit' to stop): Reading\n",
    "    # Starting task 'Reading'...\n",
    "    # Press Enter to stop the task... \n",
    "    # Task 'Reading' completed in 113.39 seconds.\n",
    "\n",
    "    # Enter the task name to start (or 'exit' to stop): exit\n",
    "\n",
    "    # All tasks and their durations:\n",
    "    # Writing report: 42.95 seconds\n",
    "    # Reading: 113.39 seconds\n",
    "import time\n",
    "\n",
    "tasks = {}  # dictionary to store tasks and their durations\n",
    "\n",
    "while True:\n",
    "    task_name = input(\"Enter task name (or 'exit' to stop): \")\n",
    "    \n",
    "    if task_name == \"exit\":\n",
    "        break\n",
    "    \n",
    "    start_time = time.time()  # start the timer\n",
    "    \n",
    "    # Perform the task here\n",
    "    \n",
    "    end_time = time.time()  # stop the timer\n",
    "    \n",
    "    duration = end_time - start_time  # calculate the duration\n",
    "    \n",
    "    tasks[task_name] = duration  # store the task and its duration in the dictionary\n",
    "\n",
    "# Print the summary of tasks and their durations\n",
    "print(\"Task Summary:\")\n",
    "for task, duration in tasks.items():\n",
    "    print(f\"{task}: {duration} seconds\")\n",
    "\n",
    "\n"
   ]
  },
  {
   "cell_type": "markdown",
   "metadata": {},
   "source": [
    "# Debug"
   ]
  },
  {
   "cell_type": "code",
   "execution_count": 1,
   "metadata": {},
   "outputs": [],
   "source": [
    "is_valid = False\n",
    "\n",
    "while not is_valid:\n",
    "    email = input(\"Enter an email address:\")\n",
    "\n",
    "    # Check if there is @ in the email\n",
    "    if ('@' in email) and not email.startswith('@'): # check if the email contains the @ character and it does not start with @\n",
    "        index = email.find('@') # find the index of the @ character, if my email is \"jaden@gmail.com\" the index will be 5\n",
    "        # sliced_email = email[:index]                                               012345\n",
    "        domain = email[index+1:] # slice the email from the index of the @ character + 1 to the end of the email                \n",
    "\n",
    "        # Check if there is a dot after the @ character\n",
    "        if '.' in domain:\n",
    "            is_valid = True\n",
    "\n",
    "print(\"The email: \" + email + \" is valid\")"
   ]
  },
  {
   "cell_type": "markdown",
   "metadata": {},
   "source": [
    "# Error Handling"
   ]
  },
  {
   "cell_type": "markdown",
   "metadata": {},
   "source": [
    "Type of errors:\n",
    "- IndexError - accessing an index out of range\n",
    "- TypeError - operation not compatible with the type\n",
    "- NameError - python does not know the variable name\n",
    "- ZeroDivisionError - division by 0\n",
    "\n",
    "Try-Except\n",
    "- like if-else for errors\n",
    "- try - where the standard logic is in\n",
    "- except - what happens when an exception occurs\n",
    "- can have multiple excepts\n",
    "\n",
    "Else\n",
    "- Tells the program what to do if there is no exception\n",
    "\n",
    "Finally\n",
    "- Tells the program what to do anyway - if there was an exception or not.\n",
    "\n",
    "Can catch more than one type of exceptions\n",
    "- use except Exception (use this as the last straw)"
   ]
  },
  {
   "cell_type": "code",
   "execution_count": 3,
   "metadata": {},
   "outputs": [
    {
     "name": "stdout",
     "output_type": "stream",
     "text": [
      "0 is not a valid option\n"
     ]
    }
   ],
   "source": [
    "num = int(input(\"Enter a number: \"))\n",
    "try:\n",
    "    print(1/num)\n",
    "except ZeroDivisionError:\n",
    "    print('0 is not a valid option')\n",
    "except ValueError:\n",
    "    print('Please enter a valid number')\n",
    "except TypeError:\n",
    "    print('Please enter a valid number')\n",
    "# or you can use a single except block to catch all exceptions\n",
    "except (ZeroDivisionError, ValueError, TypeError):\n",
    "    print('Invalid input')"
   ]
  },
  {
   "cell_type": "markdown",
   "metadata": {},
   "source": [
    "Tracebacks\n",
    "- Only printed when an exception is not handled"
   ]
  },
  {
   "cell_type": "markdown",
   "metadata": {},
   "source": [
    "# List and dictionaries Comprehension"
   ]
  },
  {
   "cell_type": "code",
   "execution_count": null,
   "metadata": {},
   "outputs": [],
   "source": [
    "# normal lists\n",
    "square = []\n",
    "for i in range(5):\n",
    "    square.append(int(input(\"Enter a number: \")))\n",
    "\n",
    "# list comprehension\n",
    "square = [int(input(\"Enter a number: \")) for i in range(5)] # syntax: [expression for item in iterable]\n"
   ]
  },
  {
   "cell_type": "code",
   "execution_count": null,
   "metadata": {},
   "outputs": [],
   "source": [
    "names = ['Alice', 'Bob', 'Charlie', 'David']\n",
    "upper_case_names = [name.upper() for name in names]\n",
    "\n",
    "words = ['hello', 'world', 'python', 'is', 'awesome']\n",
    "length = [len(word) for word in words]"
   ]
  },
  {
   "cell_type": "code",
   "execution_count": null,
   "metadata": {},
   "outputs": [],
   "source": [
    "even_list = []\n",
    "for i in range(10):\n",
    "    if i % 2 == 0:\n",
    "        list.append(i)\n",
    "\n",
    "even_list = [i for i in range(10) if i % 2 == 0] # syntax: [what to append for each item in the iterable if condition]"
   ]
  },
  {
   "cell_type": "code",
   "execution_count": 5,
   "metadata": {},
   "outputs": [
    {
     "name": "stdout",
     "output_type": "stream",
     "text": [
      "['Python', 'Coding', ' ', 'Tutorial']\n"
     ]
    }
   ],
   "source": [
    "strings = [\"Python\", \"\", \"Coding\", \"\", \"Tutorial\", None]\n",
    "non_empty_strings = [string for string in strings if string]\n",
    "print(non_empty_strings)"
   ]
  },
  {
   "cell_type": "code",
   "execution_count": 7,
   "metadata": {},
   "outputs": [
    {
     "name": "stdout",
     "output_type": "stream",
     "text": [
      "[1, 2, 3, 4]\n"
     ]
    }
   ],
   "source": [
    "numbers = [-2, -1, 0, 1, 2, 3, 4]\n",
    "positive_numbers = [positive for positive in numbers if positive > 0]\n",
    "print(positive_numbers)"
   ]
  },
  {
   "cell_type": "markdown",
   "metadata": {},
   "source": [
    "Dictionaries"
   ]
  },
  {
   "cell_type": "code",
   "execution_count": null,
   "metadata": {},
   "outputs": [],
   "source": [
    "original = {'a': 1, 'b': 2, 'c': 3}\n",
    "swapped = {}\n",
    "for key, value in original.items():\n",
    "    swapped[value] = key\n",
    "\n",
    "swapped = {value: key for key, value in original.items()} # syntax: {key: value for key, value in iterable.items()}"
   ]
  },
  {
   "cell_type": "code",
   "execution_count": null,
   "metadata": {},
   "outputs": [],
   "source": [
    "# Given a list of integers, use list comprehension to create a new list of tuples (x, y), where x is the original integer, and y is the square of the integer.\n",
    "numbers = [1, 2, 3, 4, 5]\n",
    "squared = [(num, num**2) for num in numbers]"
   ]
  },
  {
   "cell_type": "markdown",
   "metadata": {},
   "source": [
    "One Liners (Part 1)"
   ]
  },
  {
   "cell_type": "code",
   "execution_count": null,
   "metadata": {},
   "outputs": [],
   "source": [
    "# Introduction\n",
    "# Our beloved King Kahuka decided that things should be more efficient in his kingdom.\n",
    "\n",
    "# From now on, each task should be performed using only one line of code.\n",
    "\n",
    "# Your tasks\n",
    "# Task 1: Filter Even Numbers\n",
    "# Given a list of integers, use list comprehension to create a new list containing only the even numbers.\n",
    "# numbers = [1, 2, 3, 4, 5, 6, 7, 8, 9, 10]\n",
    "# # Write your one-line here\n",
    "\n",
    "# Task 2: Square Numbers\n",
    "# Generate a list of squares of the integers from 1 to 10 using list comprehension.\n",
    "\n",
    "# Task 3: Celsius to Fahrenheit\n",
    "# Convert a list of temperatures from Celsius to Fahrenheit. Use the formula F = C * 9/5 + 32.\n",
    "\n",
    "# Task 4: Extract Names Starting with a Specific Letter\n",
    "# Given a list of names, use list comprehension to create a new list containing only the names starting with S.\n",
    "# names = [\"Sarah\", \"John\", \"Charles\", \"Sebastian\", \"Sophie\"]\n",
    "# Write your one-line here\n",
    "\n",
    "# Task 5: Filter Negative Numbers and Square the Rest\n",
    "# From a given list of integers, use list comprehension to eliminate any negative numbers and square the remaining numbers.\n",
    "# original_list = [1, -2, 3, 4, -5, 6]\n",
    "# Write your one-line here\n",
    "\n",
    "# Task 6: Create a List of Tuples\n",
    "# Given a list of integers, use list comprehension to create a new list of tuples (x, y), where x is the original integer, and y is the square of the integer.\n",
    "# numbers = [1, 2, 3, 4, 5]\n",
    "# # Write your one-line here\n",
    "# # The output should be [(1, 1), (2, 4), (3, 9), ...]"
   ]
  },
  {
   "cell_type": "code",
   "execution_count": null,
   "metadata": {},
   "outputs": [],
   "source": [
    "# Task 1\n",
    "numbers = [1, 2, 3, 4, 5, 6, 7, 8, 9, 10]\n",
    "even_numbers = [even for even in numbers if even % 2 == 0]\n",
    "\n",
    "# Task 2\n",
    "square_numbers = [i ** 2 for i in range(1, 11)]\n",
    "\n",
    "# Task 3\n",
    "temperatures_celsius = [20, 30, 45, 40.5, 60, 100]\n",
    "temperature_fahrenheit = [temp * 9/5 + 32 for temp in temperatures_celsius]\n",
    "\n",
    "# Task 4\n",
    "names = [\"Sarah\", \"John\", \"Charles\", \"Sebastian\", \"Sophie\"]\n",
    "names_starting_with_s = [s for s in names if s[0] == \"S\"]\n",
    "\n",
    "# Task 5\n",
    "original_list = [1, -2, 3, 4, -5, 6]\n",
    "changed_list = [i ** 2 for i in original_list if i > 0 ]\n",
    "\n",
    "# Task 6\n",
    "numbers = [1, 2, 3, 4, 5]\n",
    "squared = [(num, num**2) for num in numbers]"
   ]
  },
  {
   "cell_type": "markdown",
   "metadata": {},
   "source": [
    "One Liners (Part 2)"
   ]
  },
  {
   "cell_type": "code",
   "execution_count": null,
   "metadata": {},
   "outputs": [],
   "source": [
    "# Introduction\n",
    "# The king liked your one-liners so much, that he'd like you to have a go at another set of those.\n",
    "\n",
    "# Tasks\n",
    "\n",
    "# Task 1: Uppercase Words\n",
    "# Given a list of words, use list comprehension to create a new list containing the uppercase version of each word.\n",
    "# words = [\"hello\", \"world\", \"python\", \"programming\"]\n",
    "# Your list comprehension here\n",
    "\n",
    "# Task 2: Word Lengths\n",
    "# Given a list of words, use list comprehension to create a new list containing the lengths of each word.\n",
    "# words = [\"list\", \"comprehensions\", \"are\", \"powerful\"]\n",
    "# # Your list comprehension here\n",
    "\n",
    "# Task 3: Exclude Vowels\n",
    "# Given a string, use list comprehension to create a string that excludes all vowels from the original string. Consider 'a', 'e', 'i', 'o', 'u' as vowels.\n",
    "# sample_string = \"Look at those flying geese!\"\n",
    "# # Your list comprehension here\n",
    "\n",
    "# Task 4: Find Palindromes\n",
    "# Given a list of words, use list comprehension to find all words that are palindromes. A palindrome is a word that reads the same backward as forward.\n",
    "# words = [\"radar\", \"python\", \"level\", \"world\", \"madam\"]\n",
    "# # Your list comprehension here\n",
    "\n",
    "# Task 5: Gimme Some Py\n",
    "# Given a list of strings, use list comprehension to create a new list containing only the strings that contain the substring \"py\" or \"Py\".\n",
    "# strings = [\"python\", \"typography\", \"hyperloop\", \"Pythagoras\", \"apple\"]\n",
    "# # Your list comprehension here"
   ]
  },
  {
   "cell_type": "code",
   "execution_count": null,
   "metadata": {},
   "outputs": [],
   "source": [
    "# Task 1\n",
    "words = [\"hello\", \"world\", \"python\", \"programming\"]\n",
    "words_upper = [i.upper() for i in words]\n",
    "\n",
    "# Task 2\n",
    "words = [\"list\", \"comprehensions\", \"are\", \"powerful\"]\n",
    "words_length = [len(word) for word in words]\n",
    "\n",
    "# Task 3\n",
    "sample_string = \"Look at those flying geese!\"\n",
    "non_vowels = [j for j in sample_string if j != \"a\" or j != \"e\" or j != \"i\" or j != \"o\" or j != \"u\"]\n",
    "\n",
    "# Task 4\n",
    "words = [\"radar\", \"python\", \"level\", \"world\", \"madam\"]\n",
    "reverse = [reverse_word for reverse_word in words if reverse_word[0:-1] == reverse_word[-1:0:-1]]\n",
    "\n",
    "# Task 5\n",
    "strings = [\"python\", \"typography\", \"hyperloop\", \"Pythagoras\", \"apple\"]\n",
    "string_py = [py for py in strings if \"py\" in py.lower()]\n",
    "print(string_py)"
   ]
  },
  {
   "cell_type": "markdown",
   "metadata": {},
   "source": [
    "One Liners Part 3"
   ]
  },
  {
   "cell_type": "code",
   "execution_count": null,
   "metadata": {},
   "outputs": [],
   "source": [
    "# Introduction\n",
    "# The king has decided to raise the bar, and test your dict comprehension skills as well.\n",
    "\n",
    "# Tasks\n",
    "\n",
    "# Task 1: Word Frequency Counter\n",
    "# Objective: Given a sentence, use dict comprehension to count the frequency of each word in the sentence. Ignore case sensitivity.\n",
    "# Example:\n",
    "# sentence = \"Hello world World hello\"\n",
    "# Your dict comprehension here\n",
    "\n",
    "# Task 2: Invert a Dictionary\n",
    "# Objective: Given a dictionary, use dict comprehension to invert its keys and values. Assume all values are unique and hashable.\n",
    "# Example:\n",
    "# my_dict = {'a': 1, 'b': 2, 'c': 3}\n",
    "# # Your dict comprehension here\n",
    "\n",
    "# Task 3: Square Numbers Mapping\n",
    "# Objective: Generate a dictionary where the keys are numbers from 1 to 10 and the values are the squares of the keys.\n",
    "# Example:\n",
    "# # Your dict comprehension here\n",
    "\n",
    "# Task 4: Filter Dictionary by Value\n",
    "# Objective: Given a dictionary, use dict comprehension to create a new dictionary with key-value pairs for entries where the value is greater than a certain threshold.\n",
    "# Example:\n",
    "# my_dict = {'a': 10, 'b': 15, 'c': 5}\n",
    "# threshold = 10\n",
    "# # Your dict comprehension here\n",
    "\n",
    "# Task 5: Create a Dictionary from Two Lists\n",
    "# Objective: Given two lists of equal length, one representing keys and the other representing values, use dict comprehension to create a dictionary mapping keys to values.\n",
    "# Example:\n",
    "# keys = ['a', 'b', 'c']\n",
    "# values = [1, 2, 3]\n",
    "# # Your dict comprehension here"
   ]
  },
  {
   "cell_type": "code",
   "execution_count": null,
   "metadata": {},
   "outputs": [],
   "source": [
    "\n",
    "# Task 1\n",
    "sentence = \"Hello world World hello\"\n",
    "\n",
    "# Step 1: Convert the sentence to lowercase and split it into words\n",
    "words = sentence.lower().split()\n",
    "\n",
    "# Step 2: Use dict comprehension to count the frequency of each word\n",
    "word_count = {word: words.count(word) for word in set(words)}\n",
    "print(word_count)\n",
    "\n",
    "\n",
    "# Task 2\n",
    "my_dict = {'a': 1, 'b': 2, 'c': 3}\n",
    "reversed_dict = {value: key for key, value in my_dict.items()}\n",
    "\n",
    "print(reversed_dict)\n",
    "\n",
    "# Task 3\n",
    "squares_dict = {x: x**2 for x in range(0, 11)}\n",
    "\n",
    "print(squares_dict)\n",
    "\n",
    "# Task 4\n",
    "my_dict_1 = {'a': 10, 'b': 15, 'c': 5}\n",
    "threshold = 10\n",
    "\n",
    "new_dict = {key: value for key, value in my_dict_1.items() if value > threshold}\n",
    "\n",
    "print(new_dict)\n",
    "\n",
    "\n",
    "#Task 5\n",
    "keys = ['a', 'b', 'c']\n",
    "values = [1, 2, 3]\n",
    "new_dict_1 = {keys[i]: values[i] for i in range(len(keys))}\n",
    "\n",
    "print(new_dict_1)"
   ]
  },
  {
   "cell_type": "markdown",
   "metadata": {},
   "source": [
    "Super Chef"
   ]
  },
  {
   "cell_type": "code",
   "execution_count": null,
   "metadata": {},
   "outputs": [],
   "source": [
    "def analyze_text_file(file_path):\n",
    "    even_sum = 0\n",
    "    odd_sum = 0\n",
    "    lines_with_13_chars = 0\n",
    "\n",
    "    with open(file_path, 'r') as file:\n",
    "        for line in file:\n",
    "            stripped_line = line.strip()\n",
    "\n",
    "            # Check if the line has exactly 13 characters (including spaces and punctuation)\n",
    "            if len(line.strip()) == 13:\n",
    "                lines_with_13_chars += 1\n",
    "\n",
    "            # Check if the line is a number and classify it as even or odd\n",
    "            if stripped_line.isdigit():\n",
    "                number = int(stripped_line)\n",
    "                if number % 2 == 0:\n",
    "                    even_sum += number\n",
    "                else:\n",
    "                    odd_sum += number\n",
    "\n",
    "    # Format the output\n",
    "    result = f\"{even_sum}{lines_with_13_chars}{odd_sum}\"\n",
    "    return result\n"
   ]
  },
  {
   "cell_type": "markdown",
   "metadata": {},
   "source": [
    "# Functions"
   ]
  },
  {
   "cell_type": "code",
   "execution_count": null,
   "metadata": {},
   "outputs": [],
   "source": [
    "# Mappers \n"
   ]
  },
  {
   "cell_type": "markdown",
   "metadata": {},
   "source": [
    "# Networking"
   ]
  },
  {
   "cell_type": "code",
   "execution_count": null,
   "metadata": {},
   "outputs": [],
   "source": [
    "# validate IP address\n",
    "\n",
    "def validate_ipv(ip):\n",
    "    # Split the IP address into octets\n",
    "    octets = ip.split('.')\n",
    "\n",
    "    # Check if there are exactly four octets\n",
    "    if len(octets) != 4:\n",
    "        return False\n",
    "\n",
    "    for octet in octets:\n",
    "        # Check if the octet is a number and is within the valid range\n",
    "        if not octet.isdigit() or not (0 <= int(octet) <= 255):\n",
    "            return False\n",
    "\n",
    "        # Check for leading zeros (e.g., '01')\n",
    "        if len(octet) > 1 and octet[0] == '0':\n",
    "            return False\n",
    "\n",
    "    return True\n",
    "\n",
    "\n",
    "# Test the function with the given IP addresses\n",
    "ip_addresses = [\n",
    "    \"192.168.1.1\",\n",
    "    \"256.100.50.25\",\n",
    "    \"123.45.67\",\n",
    "    \"172.16.254.1\",\n",
    "    \"10.0.0.256\",\n",
    "    \"192.168.01.1\"\n",
    "]\n",
    "\n",
    "# Print the validation results\n",
    "for ip in ip_addresses:\n",
    "    print(f\"{ip}: {'Valid' if validate_ipv(ip) else 'Invalid'}\")\n"
   ]
  }
 ],
 "metadata": {
  "kernelspec": {
   "display_name": "Python 3",
   "language": "python",
   "name": "python3"
  },
  "language_info": {
   "codemirror_mode": {
    "name": "ipython",
    "version": 3
   },
   "file_extension": ".py",
   "mimetype": "text/x-python",
   "name": "python",
   "nbconvert_exporter": "python",
   "pygments_lexer": "ipython3",
   "version": "3.12.5"
  }
 },
 "nbformat": 4,
 "nbformat_minor": 2
}
