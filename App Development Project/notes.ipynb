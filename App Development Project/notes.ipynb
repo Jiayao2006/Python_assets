{
 "cells": [
  {
   "cell_type": "markdown",
   "metadata": {},
   "source": [
    "# Week 1"
   ]
  },
  {
   "cell_type": "markdown",
   "metadata": {},
   "source": [
    "# Classes\n",
    "Classes are descriptions of what things should look like (properties) and the functionalities that can be called to manipulate those variables (functions)\n",
    "<br>\n",
    "It is like a blueprint or a plan. Imagine drawing a design for a toy car. The design is not the actual car but it shows what the car should have, like wheels and an engine.\n",
    "\n",
    "It contains: <br>\n",
    "- Properties (eg. name, gender, occupation)\n",
    "- Methods (Functions)\n",
    "<br>\n",
    "Classes are known as blueprint for an object"
   ]
  },
  {
   "cell_type": "code",
   "execution_count": null,
   "metadata": {},
   "outputs": [],
   "source": [
    "# Creating a class\n",
    "\n",
    "class ToyCar: # Class name should start with a capital letter\n",
    "    def __init__(self, color): # __init__ is a special method that gets called when an object is created, self is a reference to the object itself\n",
    "        self.color = color \n",
    "    \n",
    "    def move(self): # This is a method\n",
    "        print(\"The car is moving!\") # This is what the method does\n"
   ]
  },
  {
   "cell_type": "markdown",
   "metadata": {},
   "source": [
    "# Objects\n",
    "Once you have a design/plan, you can make a real toy out of it (object) <br>\n",
    "Objects are known as instances of a class <br>\n",
    "Attributes are features of what an object has, eg. color of a car, different cars have different colors\n",
    "\n",
    "Collection of:\n",
    "- Attributes\n",
    "- Values\n",
    "- Methods"
   ]
  },
  {
   "cell_type": "code",
   "execution_count": 14,
   "metadata": {},
   "outputs": [
    {
     "name": "stdout",
     "output_type": "stream",
     "text": [
      "The car is moving!\n"
     ]
    }
   ],
   "source": [
    "class ToyCar:\n",
    "    def __init__(self, color):\n",
    "        self.color = color # This is an attribute\n",
    "    \n",
    "    def move(self): \n",
    "        print(\"The car is moving!\")\n",
    "\n",
    "# Creating an object of the class\n",
    "my_car = ToyCar(\"blue\") # The __init__ method is called with the argument \"blue\" and the object is created with the color attribute set to \"blue\"\n",
    "my_car.move()  # \"The car is moving!\"\" is printed\n"
   ]
  },
  {
   "cell_type": "markdown",
   "metadata": {},
   "source": [
    "# Object Attribute vs Class Attribute\n",
    "\n",
    "Class Attributes:\n",
    "- Belong to the class itself, not to any specific object.\n",
    "- All objects made from the class share the same class attribute. It’s like a rule that applies to all toys of the same type.\n",
    "- If you change a class attribute, it affects all the objects made from that class.\n",
    "\n",
    "Object Attributes:\n",
    "- Belong to a specific object.\n",
    "- Each object can have its own unique attributes, even if they were created from the same class.\n",
    "-  Changing an object’s attribute only affects that specific object, not the others.\n",
    "\n",
    "Imagine you have a class for toy robots, and all robots are made of metal, but each robot can have a different color."
   ]
  },
  {
   "cell_type": "code",
   "execution_count": 16,
   "metadata": {},
   "outputs": [
    {
     "name": "stdout",
     "output_type": "stream",
     "text": [
      "This robot is made of metal and its color is red.\n",
      "This robot is made of metal and its color is blue.\n",
      "This robot is made of plastic and its color is red.\n",
      "This robot is made of plastic and its color is blue.\n"
     ]
    }
   ],
   "source": [
    "class Robot:\n",
    "    # Class attribute\n",
    "    material = \"metal\"  # All robots are made of metal \n",
    "    \n",
    "    def __init__(self, color):\n",
    "        # Object attribute\n",
    "        self.color = color  # Each robot can have a different color \n",
    "    \n",
    "    def info(self):\n",
    "        print(f\"This robot is made of {Robot.material} and its color is {self.color}.\")\n",
    "\n",
    "robot1 = Robot(\"red\")\n",
    "robot2 = Robot(\"blue\")\n",
    "\n",
    "robot1.info()  # This robot is made of metal and its color is red.\n",
    "robot2.info()  # This robot is made of metal and its color is blue.\n",
    "\n",
    "# Change class attribute\n",
    "Robot.material = \"plastic\"  # Now, all robots are made of plastic\n",
    "\n",
    "robot1.info()  # This robot is made of plastic and its color is red.\n",
    "robot2.info()  # This robot is made of plastic and its color is blue.\n",
    "\n",
    "# Class attributes like \"material\" are shared by all robots. When you change it, the change applies to all objects.\n",
    "# Object attributes like \"color\" are specific to each robot. Changing robot1's color doesn’t affect robot2.\n"
   ]
  },
  {
   "cell_type": "code",
   "execution_count": null,
   "metadata": {},
   "outputs": [],
   "source": [
    "class Counter:\n",
    "    count1 = 0 # Class attribute shared by all objects\n",
    "    def __init__(self):\n",
    "        self.count2 = 0\n",
    "    def increase_count2(self):\n",
    "        self.count2 += 1 # Access object attribute using self\n",
    "    def increase_count1(self):\n",
    "        self.__class__.count1 += 1 # Access class attribute using __class__"
   ]
  },
  {
   "cell_type": "markdown",
   "metadata": {},
   "source": [
    "# Encapsulation\n",
    "Encapsulation is the concept of restricting access to certain parts of an object to prevent direct modification from outside the class.\n",
    "\n",
    "In Python, you can restrict access to an object's attributes by prefixing them with two underscores. This makes them private attributes.\n",
    "\n",
    "Private attributes can only be accessed within the class itself."
   ]
  },
  {
   "cell_type": "code",
   "execution_count": 17,
   "metadata": {},
   "outputs": [
    {
     "name": "stdout",
     "output_type": "stream",
     "text": [
      "Tom\n"
     ]
    }
   ],
   "source": [
    "\n",
    "class Robot:\n",
    "    def __init__(self):\n",
    "        self.__name = None  # Private attribute\n",
    "        self.__color = None  # Private attribute\n",
    "    \n",
    "    def get_name(self):\n",
    "        return self.__name  # Accessing private attribute\n",
    "    \n",
    "    def set_name(self, name):\n",
    "        self.__name = name  # Modifying private attribute\n",
    "\n",
    "robot = Robot()\n",
    "robot.set_name(\"Tom\")\n",
    "print(robot.get_name())  # Tom"
   ]
  },
  {
   "cell_type": "markdown",
   "metadata": {},
   "source": [
    "# Week 1 Practical\n",
    "My answers"
   ]
  },
  {
   "cell_type": "code",
   "execution_count": 18,
   "metadata": {},
   "outputs": [
    {
     "name": "stdout",
     "output_type": "stream",
     "text": [
      "Name: John, Email: john@nyp.edu.sg, Mobile number: 92345678\n"
     ]
    }
   ],
   "source": [
    "# Question 1\n",
    "class Customer:\n",
    "\tdef __init__(self, n, e, mn):\n",
    "\t\tself.__name = n\n",
    "\t\tself.__email = e\n",
    "\t\tself.__mobile_number = mn\n",
    "\tdef get_customer_info(self):\n",
    "\t\treturn f\"Name: {self.__name}, Email: {self.__email}, Mobile number: {self.__mobile_number}\"\n",
    "\t\n",
    "customer = Customer(\"John\", \"john@nyp.edu.sg\", 92345678)\n",
    "print(customer.get_customer_info())  "
   ]
  },
  {
   "cell_type": "code",
   "execution_count": 22,
   "metadata": {},
   "outputs": [
    {
     "name": "stdout",
     "output_type": "stream",
     "text": [
      "The price for Apple iPhone 12 Pro Max is $1500\n"
     ]
    }
   ],
   "source": [
    "# Question 2\n",
    "class Phone:\n",
    "\tdef __init__(self, m, mod, p):\n",
    "\t\tself.__make = m\n",
    "\t\tself.__model = mod\n",
    "\t\tself.__price = p\n",
    "\n",
    "\tdef get_phone_info(self):\n",
    "\t\treturn f\"The price for {self.__make} {self.__model} is ${self.__price}\"\n",
    "\n",
    "phone = Phone(input(\"Enter the make of the phone: \"), # Get input\n",
    "\t\t\t  input(\"Enter the model of the phone: \"), \n",
    "\t\t\t  int(input(\"Enter the price of the phone: \")))\n",
    "\n",
    "print(phone.get_phone_info())"
   ]
  },
  {
   "cell_type": "code",
   "execution_count": 2,
   "metadata": {},
   "outputs": [
    {
     "name": "stdout",
     "output_type": "stream",
     "text": [
      "Name: handsome\n",
      "Email: handsome@gmail.com\n",
      "Mobile Number: 12345678\n"
     ]
    }
   ],
   "source": [
    "# Question 3\n",
    "class Customer:\n",
    "\tdef __init__(self):\n",
    "\t\tself.__name = None\n",
    "\t\tself.__email = None\n",
    "\t\tself.__mobile_number = None\n",
    "\n",
    "\tdef set_name(self, name):\n",
    "\t\tself.__name = name\n",
    "\n",
    "\tdef set_mobile_number(self, mn):\n",
    "\t\tself.__mobile_number = mn\n",
    "\n",
    "\tdef set_email(self, e):\n",
    "\t\tself.__email = e\n",
    "\n",
    "\tdef get_name(self):\n",
    "\t\treturn self.__name\n",
    "\t\n",
    "\tdef get_email(self):\n",
    "\t\treturn self.__email\n",
    "\n",
    "\tdef get_mobile_number(self):\n",
    "\t\treturn self.__mobile_number\n",
    "\n",
    "\t\t\n",
    "customer = Customer()\n",
    "customer.set_name(input(\"Enter your name: \"))\n",
    "customer.set_email(input(\"Enter your email: \"))\n",
    "customer.set_mobile_number(int(input(\"Enter your mobile number: \")))\n",
    "print(f\"Name: {customer.get_name()}\\nEmail: {customer.get_email()}\\nMobile Number: {customer.get_mobile_number()}\")"
   ]
  },
  {
   "cell_type": "code",
   "execution_count": 7,
   "metadata": {},
   "outputs": [
    {
     "name": "stdout",
     "output_type": "stream",
     "text": [
      "The price of Samsung Galaxy S is $267\n"
     ]
    }
   ],
   "source": [
    "# Question 4\n",
    "class Phone:\n",
    "\tdef __init__(self):\n",
    "\t\tself.__make = None\n",
    "\t\tself.__model = None\n",
    "\t\tself.__price = 0\n",
    "\n",
    "\tdef set_make(self, m):\n",
    "\t\tself.__make = m\n",
    "\t\n",
    "\tdef set_model(self, mod):\n",
    "\t\tself.__model = mod\n",
    "\t\n",
    "\tdef set_price(self, p):\n",
    "\t\tif p.isdigit() == True:\t\n",
    "\t\t\tself.__price = int(p)\n",
    "\t\telse:\n",
    "\t\t\tprint(\"Price should be in numbers.\")\n",
    "\t\t\n",
    "\tdef get_make(self):\n",
    "\t\treturn self.__make\n",
    "\t\n",
    "\tdef get_model(self):\n",
    "\t\treturn self.__model\n",
    "\t\n",
    "\tdef get_price(self):\n",
    "\t\treturn self.__price\n",
    "\t\n",
    "\tdef get_phone_info(self):\n",
    "\t\treturn f\"The price of {self.get_make()} {self.get_model()} is ${self.get_price()}\"\n",
    "\t\n",
    "phone = Phone()\n",
    "phone.set_make(input(\"Enter the make of the phone: \"))\n",
    "phone.set_model(input(\"Enter the model of the phone: \"))\n",
    "phone.set_price(input(\"Enter the price of the phone: \"))\n",
    "print(phone.get_phone_info())\n"
   ]
  },
  {
   "cell_type": "code",
   "execution_count": 5,
   "metadata": {},
   "outputs": [
    {
     "name": "stdout",
     "output_type": "stream",
     "text": [
      "The commission of salesperson  Xiao Qiang is $30.0\n"
     ]
    }
   ],
   "source": [
    "# Question 5\n",
    "\n",
    "class SalesPerson:\n",
    "    def __init__(self):\n",
    "        self.__name = None\n",
    "        self.__commission = 0\n",
    "    \n",
    "    def set_name(self, n):\n",
    "        self.__name = n\n",
    "\n",
    "    def get_name(self):\n",
    "        return self.__name\n",
    "    \n",
    "    def salesperson_commission(self, payment):\n",
    "        self.__commission =  0.02 * payment\n",
    "    \n",
    "    def __str__(self):\n",
    "        return f\"The commission of salesperson  {self.get_name()} is ${self.__commission}\"\n",
    "\n",
    "salesperson = SalesPerson()\n",
    "salesperson.set_name(input(\"Enter salesperson name: \"))\n",
    "salesperson.salesperson_commission(int(input(\"Enter the payment amount: \")))\n",
    "print(salesperson)\n"
   ]
  },
  {
   "cell_type": "code",
   "execution_count": 7,
   "metadata": {},
   "outputs": [
    {
     "name": "stdout",
     "output_type": "stream",
     "text": [
      "The phone created is Apple iPhone 13 priced at $1500.0. Now has 1 phone(s) in total.\n",
      "Salesperson Xiao Qiang sold Apple iPhone 13 priced at $1500.0 and earned a commission of $30.00.\n"
     ]
    }
   ],
   "source": [
    "# Question 6\n",
    "class Phone:\n",
    "    count = 0  # Class attribute to track the number of Phone objects\n",
    "    \n",
    "    def __init__(self):\n",
    "        self.__make = None\n",
    "        self.__model = None\n",
    "        self.__price = 0\n",
    "        Phone.count += 1\n",
    "    \n",
    "    def set_make(self, make):\n",
    "        self.__make = make\n",
    "    \n",
    "    def set_model(self, model):\n",
    "        self.__model = model\n",
    "    \n",
    "    def set_price(self, price):\n",
    "        if str(price).isnumeric():\n",
    "            self.__price = float(price)\n",
    "        else:\n",
    "            print(\"Error: Price must be a number.\")\n",
    "    \n",
    "    def __str__(self):\n",
    "        return f\"{self.__make} {self.__model} priced at ${self.__price}\"\n",
    "\n",
    "    @staticmethod\n",
    "    def get_phone_count():\n",
    "        return Phone.count\n",
    "\n",
    "class SalesPerson:\n",
    "    def __init__(self, name=None):\n",
    "        self.__name = name\n",
    "        self.__commission = 0\n",
    "        self.__phone = None  # To store Phone object\n",
    "    \n",
    "    def set_name(self, name):\n",
    "        self.__name = name\n",
    "    \n",
    "    def salesperson_sold(self, phone):\n",
    "        self.__phone = phone\n",
    "    \n",
    "    def salesperson_commission(self, payment_received):\n",
    "        self.__commission = 0.02 * payment_received\n",
    "    \n",
    "    def __str__(self):\n",
    "        return (f\"Salesperson {self.__name} sold {self.__phone} \"\n",
    "                f\"and earned a commission of ${self.__commission:.2f}.\")\n",
    "\n",
    "def main():\n",
    "    # Get phone details from user\n",
    "    make = input(\"Enter the make of the phone: \")\n",
    "    model = input(\"Enter the model of the phone: \")\n",
    "    price = input(\"Enter the price of the phone: \")\n",
    "    \n",
    "    # Create a Phone object and set attributes\n",
    "    phone = Phone()\n",
    "    phone.set_make(make)\n",
    "    phone.set_model(model)\n",
    "    phone.set_price(price)\n",
    "    \n",
    "    # Display phone creation message\n",
    "    print(f\"The phone created is {phone}. Now has {Phone.get_phone_count()} phone(s) in total.\")\n",
    "    \n",
    "    # Get salesperson details from user\n",
    "    name = input(\"Enter salesperson name: \")\n",
    "    payment_received = float(input(\"Enter payment received by salesperson: \"))\n",
    "    \n",
    "    # Create a SalesPerson object\n",
    "    salesperson = SalesPerson(name)\n",
    "    salesperson.salesperson_commission(payment_received)\n",
    "    \n",
    "    # Assign the phone to the salesperson\n",
    "    salesperson.salesperson_sold(phone)\n",
    "    \n",
    "    # Display the salesperson and phone details\n",
    "    print(salesperson)\n",
    "\n",
    "# Run the test program\n",
    "if __name__ == \"__main__\":\n",
    "    main()\n"
   ]
  }
 ],
 "metadata": {
  "kernelspec": {
   "display_name": "Python 3",
   "language": "python",
   "name": "python3"
  },
  "language_info": {
   "codemirror_mode": {
    "name": "ipython",
    "version": 3
   },
   "file_extension": ".py",
   "mimetype": "text/x-python",
   "name": "python",
   "nbconvert_exporter": "python",
   "pygments_lexer": "ipython3",
   "version": "3.12.5"
  }
 },
 "nbformat": 4,
 "nbformat_minor": 2
}
